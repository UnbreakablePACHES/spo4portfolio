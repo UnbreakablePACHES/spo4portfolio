{
 "cells": [
  {
   "cell_type": "code",
   "execution_count": null,
   "id": "6ef5b604",
   "metadata": {},
   "outputs": [],
   "source": [
    "import pandas as pd\n",
    "import numpy as np\n",
    "import torch\n",
    "import random\n",
    "\n",
    "from models.LinearInferencer import LinearPredictorTorch\n",
    "from DataPipeline.Dataloader import PortfolioDataset\n",
    "from torch.utils.data import DataLoader\n",
    "from DataPipeline.DataBuilder import build_dataset\n",
    "\n",
    "pd.options.display.float_format = '{:.6f}'.format\n",
    "np.set_printoptions(precision=6, suppress=True)\n",
    "\n",
    "tickers = [\"EEM\",\"EFA\",\"JPXN\",\"SPY\",\"XLK\",'VTI','AGG','DBC']\n",
    "\n",
    "seed = 123\n",
    "\n",
    "# 设置 Python 内建随机模块\n",
    "random.seed(seed)\n",
    "\n",
    "# 设置 NumPy 随机种子\n",
    "np.random.seed(seed)\n",
    "\n",
    "# 设置 PyTorch 的随机种子\n",
    "torch.manual_seed(seed)"
   ]
  }
 ],
 "metadata": {
  "language_info": {
   "name": "python"
  }
 },
 "nbformat": 4,
 "nbformat_minor": 5
}
