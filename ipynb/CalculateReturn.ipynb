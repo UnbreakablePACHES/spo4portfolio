{
 "cells": [
  {
   "cell_type": "markdown",
   "id": "0e4efb84",
   "metadata": {},
   "source": [
    "# 加载模块"
   ]
  },
  {
   "cell_type": "code",
   "execution_count": 1,
   "id": "52a134e4",
   "metadata": {},
   "outputs": [],
   "source": [
    "import sys\n",
    "sys.path.append(\"..\")\n",
    "import pandas as pd\n",
    "import numpy as np\n",
    "from models.PortfolioModel import PortfolioModel\n",
    "from tqdm import tqdm"
   ]
  },
  {
   "cell_type": "markdown",
   "id": "2cb3892e",
   "metadata": {},
   "source": [
    "# 读取tickers列表 - 8tickers"
   ]
  },
  {
   "cell_type": "code",
   "execution_count": 27,
   "id": "d2047ff9",
   "metadata": {},
   "outputs": [],
   "source": [
    "tickers = pd.read_csv('data/RawData/misc/test_tickers_Name.csv')\n",
    "tickers = tickers['Ticker'].to_list() # 读取 Tickers"
   ]
  },
  {
   "cell_type": "markdown",
   "id": "ae3502a1",
   "metadata": {},
   "source": [
    "# 计算算术收益率"
   ]
  },
  {
   "cell_type": "code",
   "execution_count": 28,
   "id": "064bca74",
   "metadata": {},
   "outputs": [],
   "source": [
    "# 存储每个ETF的算术收益率\n",
    "arith_ret_dict = {}\n",
    "\n",
    "for ticker in tickers:\n",
    "    file_path = f\"data/FeatureData/{ticker}.csv\"\n",
    "    df = pd.read_csv(file_path, parse_dates=[\"Date\"], index_col=\"Date\")\n",
    "    \n",
    "    # 确保有 Close 列\n",
    "    if \"Close\" not in df.columns:\n",
    "        raise ValueError(f\"{ticker}.csv 中缺少 Close 列\")\n",
    "\n",
    "    # 计算算术收益率\n",
    "    df[f\"{ticker}_return\"] = df[\"Close\"].pct_change()\n",
    "    \n",
    "    # 去除缺失值（第一个为NaN）\n",
    "    arith_ret_dict[ticker] = df[[f\"{ticker}_return\"]].dropna()\n"
   ]
  },
  {
   "cell_type": "code",
   "execution_count": 29,
   "id": "236eb383",
   "metadata": {},
   "outputs": [
    {
     "name": "stdout",
     "output_type": "stream",
     "text": [
      "                     EEM_return  EFA_return  JPXN_return  SPY_return  \\\n",
      "Date                                                                   \n",
      "2023-01-04 05:00:00    0.030089    0.013289    -0.011968    0.007720   \n",
      "2023-01-05 05:00:00   -0.003048   -0.009985    -0.013670   -0.011413   \n",
      "2023-01-06 05:00:00    0.020892    0.025591     0.023684    0.022932   \n",
      "2023-01-09 05:00:00    0.007487    0.004256     0.001714   -0.000567   \n",
      "2023-01-10 05:00:00    0.007184    0.002923    -0.001027    0.007013   \n",
      "...                         ...         ...          ...         ...   \n",
      "2024-12-24 05:00:00    0.003058    0.003572    -0.002554    0.011115   \n",
      "2024-12-26 05:00:00   -0.003518    0.004746     0.010101    0.000067   \n",
      "2024-12-27 05:00:00   -0.004472   -0.001443     0.005915   -0.010527   \n",
      "2024-12-30 05:00:00   -0.008038   -0.006569    -0.006441   -0.011412   \n",
      "2024-12-31 05:00:00   -0.003336    0.000000    -0.002114   -0.003638   \n",
      "\n",
      "                     VTI_return  XLK_return  AGG_return  DBC_return  \n",
      "Date                                                                 \n",
      "2023-01-04 05:00:00    0.008876    0.002596    0.005535   -0.017872  \n",
      "2023-01-05 05:00:00   -0.011712   -0.019421   -0.000816   -0.005078  \n",
      "2023-01-06 05:00:00    0.022070    0.029295    0.010916    0.005530  \n",
      "2023-01-09 05:00:00    0.000412    0.011625    0.002523    0.011844  \n",
      "2023-01-10 05:00:00    0.007882    0.006182   -0.003825    0.000000  \n",
      "...                         ...         ...         ...         ...  \n",
      "2024-12-24 05:00:00    0.010612    0.010333    0.001138    0.005736  \n",
      "2024-12-26 05:00:00    0.000572    0.000665    0.000723   -0.002852  \n",
      "2024-12-27 05:00:00   -0.010831   -0.013295   -0.002065    0.004766  \n",
      "2024-12-30 05:00:00   -0.011052   -0.012716    0.003932    0.009013  \n",
      "2024-12-31 05:00:00   -0.003473   -0.008317   -0.001237    0.005172  \n",
      "\n",
      "[501 rows x 8 columns]\n"
     ]
    }
   ],
   "source": [
    "# 将所有收益率按日期对齐合并\n",
    "merged_returns = pd.concat(arith_ret_dict.values(), axis=1, join=\"inner\")\n",
    "\n",
    "# 打印前几行确认\n",
    "print(merged_returns)\n",
    "merged_returns.to_csv(\"data/DailyReturn/DailyReturn_8tickers.csv\", index=True)\n",
    "return_df = merged_returns\n"
   ]
  },
  {
   "cell_type": "markdown",
   "id": "2f177ed7",
   "metadata": {},
   "source": [
    "# 生成 Oracle"
   ]
  },
  {
   "cell_type": "code",
   "execution_count": null,
   "id": "89600385",
   "metadata": {},
   "outputs": [
    {
     "name": "stdout",
     "output_type": "stream",
     "text": [
      "Solving for oracle weights with transaction cost...\n"
     ]
    },
    {
     "name": "stderr",
     "output_type": "stream",
     "text": [
      "100%|██████████| 501/501 [00:00<00:00, 2956.92it/s]\n"
     ]
    }
   ],
   "source": [
    "from models.PortfolioModel import PortfolioModelWithFee \n",
    "from tqdm import tqdm\n",
    "\n",
    "returns = return_df.to_numpy()  # 每一行是某天的8个ETF的算术收益率\n",
    "dates = return_df.index\n",
    "num_assets = returns.shape[1]\n",
    "\n",
    "# 初始化带手续费建模的优化器（设定手续费率 gamma）\n",
    "opt_model = PortfolioModelWithFee(n_assets=num_assets, gamma=0.003)\n",
    "\n",
    "oracle_weights = []\n",
    "oracle_objectives = []\n",
    "\n",
    "# 初始组合设为全0（即全现金）\n",
    "prev_weight = [0.0] * num_assets\n",
    "\n",
    "print(\"Solving for oracle weights with transaction cost...\")\n",
    "for r in tqdm(returns):\n",
    "    w_star = opt_model.optimize(r, prev_weight)\n",
    "    obj = float(np.dot(r, w_star) - opt_model.gamma * np.sum(np.abs(np.array(w_star) - np.array(prev_weight))))\n",
    "    oracle_weights.append(w_star)\n",
    "    oracle_objectives.append(obj)\n",
    "    prev_weight = w_star  # 更新为下一日上期组合\n",
    "\n",
    "# 保存为 CSV\n",
    "oracle_df = pd.DataFrame(oracle_weights, index=dates, columns=return_df.columns)\n",
    "oracle_df.to_csv(\"data/DailyOracle/oracle_weights_with_fee.csv\")\n",
    "\n",
    "pd.DataFrame(oracle_objectives, index=dates, columns=[\"oracle_objective_with_fee\"])\\\n",
    "    .to_csv(\"data/DailyOracle/oracle_objectives_with_fee.csv\")\n"
   ]
  }
 ],
 "metadata": {
  "kernelspec": {
   "display_name": "DLinear",
   "language": "python",
   "name": "python3"
  },
  "language_info": {
   "codemirror_mode": {
    "name": "ipython",
    "version": 3
   },
   "file_extension": ".py",
   "mimetype": "text/x-python",
   "name": "python",
   "nbconvert_exporter": "python",
   "pygments_lexer": "ipython3",
   "version": "3.9.18"
  }
 },
 "nbformat": 4,
 "nbformat_minor": 5
}
