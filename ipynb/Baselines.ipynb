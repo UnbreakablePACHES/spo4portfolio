{
 "cells": [
  {
   "cell_type": "markdown",
   "id": "dda46242",
   "metadata": {},
   "source": [
    "# 导入模块"
   ]
  },
  {
   "cell_type": "code",
   "execution_count": 2,
   "id": "8058ac2d",
   "metadata": {},
   "outputs": [],
   "source": [
    "import os\n",
    "os.chdir(\"..\")\n",
    "import numpy as np\n",
    "import pandas as pd\n",
    "from dateutil.relativedelta import relativedelta\n",
    "from scipy.optimize import minimize"
   ]
  },
  {
   "cell_type": "markdown",
   "id": "5b8bd877",
   "metadata": {},
   "source": [
    "# 数据准备"
   ]
  },
  {
   "cell_type": "code",
   "execution_count": 3,
   "id": "c382983b",
   "metadata": {},
   "outputs": [],
   "source": [
    "# 所有 ETF\n",
    "tickers = [\"EEM\",\"EFA\",\"JPXN\",\"SPY\",\"XLK\",'VTI','AGG','DBC']\n",
    "n_assets = len(tickers)\n",
    "equal_weight = np.full(n_assets, 1/n_assets)  # 每个资产的权重都是 1/N\n",
    "\n",
    "# 读取 log return\n",
    "return_df = pd.DataFrame()\n",
    "for ticker in tickers:\n",
    "    df = pd.read_csv(f\"data/FeatureData/{ticker}.csv\", parse_dates=[\"Date\"])\n",
    "    df[\"Date\"] = pd.to_datetime(df[\"Date\"]).dt.normalize()\n",
    "    df = df.set_index(\"Date\")[\"log_return\"].rename(ticker)\n",
    "    return_df = pd.concat([return_df, df], axis=1)\n",
    "\n",
    "# 定义每个月初作为投资起始点\n",
    "start_date = pd.to_datetime(\"2024-01-01\")\n",
    "months = 12"
   ]
  },
  {
   "cell_type": "markdown",
   "id": "a49ab908",
   "metadata": {},
   "source": [
    "# 等权投资"
   ]
  },
  {
   "cell_type": "code",
   "execution_count": null,
   "id": "63d5c582",
   "metadata": {},
   "outputs": [
    {
     "name": "stdout",
     "output_type": "stream",
     "text": [
      "📅 2024-01 等权组合收益：0.5294%\n",
      "📅 2024-02 等权组合收益：2.9386%\n",
      "📅 2024-03 等权组合收益：2.7769%\n",
      "📅 2024-04 等权组合收益：-2.9288%\n",
      "📅 2024-05 等权组合收益：3.4828%\n",
      "📅 2024-06 等权组合收益：1.9637%\n",
      "📅 2024-07 等权组合收益：0.9891%\n",
      "📅 2024-08 等权组合收益：1.3077%\n",
      "📅 2024-09 等权组合收益：1.9309%\n",
      "📅 2024-10 等权组合收益：-2.2028%\n",
      "📅 2024-11 等权组合收益：1.9947%\n",
      "📅 2024-12 等权组合收益：-1.6464%\n"
     ]
    }
   ],
   "source": [
    "# 所有 ETF\n",
    "tickers = [\"EEM\",\"EFA\",\"JPXN\",\"SPY\",\"XLK\",'VTI','AGG','DBC']\n",
    "n_assets = len(tickers)\n",
    "equal_weight = np.full(n_assets, 1/n_assets)  # 每个资产的权重都是 1/N\n",
    "\n",
    "# 读取 log return\n",
    "return_df = pd.DataFrame()\n",
    "for ticker in tickers:\n",
    "    df = pd.read_csv(f\"data/FeatureData/{ticker}.csv\", parse_dates=[\"Date\"])\n",
    "    df[\"Date\"] = pd.to_datetime(df[\"Date\"]).dt.normalize()\n",
    "    df = df.set_index(\"Date\")[\"log_return\"].rename(ticker)\n",
    "    return_df = pd.concat([return_df, df], axis=1)\n",
    "\n",
    "# 定义每个月初作为投资起始点\n",
    "start_date = pd.to_datetime(\"2024-01-01\")\n",
    "months = 12\n",
    "\n",
    "results = []\n",
    "\n",
    "for i in range(months):\n",
    "    infer_start = start_date + relativedelta(months=i)\n",
    "    infer_end = (infer_start + relativedelta(months=1)) - pd.Timedelta(days=1)\n",
    "\n",
    "    try:\n",
    "        # 获取这个月每天的算术收益率\n",
    "        arith_return_month = np.expm1(return_df.loc[infer_start:infer_end, tickers].values)\n",
    "        daily_return = arith_return_month @ equal_weight  # 每日组合收益\n",
    "        monthly_return = np.prod(1 + daily_return) - 1     # 月组合收益\n",
    "\n",
    "    except Exception as e:\n",
    "        print(f\"⚠️ 无法计算 {infer_start.strftime('%Y-%m')} 的组合收益：{e}\")\n",
    "        monthly_return = np.nan\n",
    "\n",
    "    print(f\"📅 {infer_start.strftime('%Y-%m')} 等权组合收益：{monthly_return:.4%}\")\n",
    "    results.append((infer_start.strftime('%Y-%m'), monthly_return))\n",
    "\n",
    "# 保存结果\n",
    "df_result = pd.DataFrame(results, columns=[\"Month\", \"MonthlyReturn\"])\n",
    "df_result[\"CumulativeReturn\"] = (1 + df_result[\"MonthlyReturn\"]).cumprod() - 1\n",
    "df_result.to_csv(\"result\\8_ticker_1ytrain1yinfer\\EqualWeight.csv\", index=False)\n"
   ]
  },
  {
   "cell_type": "markdown",
   "id": "46d04888",
   "metadata": {},
   "source": [
    "# 最大化夏普比率"
   ]
  },
  {
   "cell_type": "markdown",
   "id": "85071c86",
   "metadata": {},
   "source": [
    "## 夏普比率优化函数"
   ]
  },
  {
   "cell_type": "code",
   "execution_count": 4,
   "id": "3bf128f0",
   "metadata": {},
   "outputs": [],
   "source": [
    "def max_sharpe_portfolio(mu, cov, risk_free=0.0):\n",
    "    n = len(mu)\n",
    "\n",
    "    def neg_sharpe(w):\n",
    "        port_return = np.dot(w, mu)\n",
    "        port_vol = np.sqrt(np.dot(w, np.dot(cov, w)))\n",
    "        return -((port_return - risk_free) / port_vol)\n",
    "\n",
    "    constraints = ({\n",
    "        'type': 'eq',\n",
    "        'fun': lambda w: np.sum(w) - 1\n",
    "    })\n",
    "    bounds = [(0.0, 1.0)] * n\n",
    "    w0 = np.array([1.0 / n] * n)\n",
    "\n",
    "    result = minimize(neg_sharpe, w0, bounds=bounds, constraints=constraints)\n",
    "    return result.x  # 最优权重\n"
   ]
  },
  {
   "cell_type": "markdown",
   "id": "d8b66a28",
   "metadata": {},
   "source": [
    "## 月度回测代码"
   ]
  },
  {
   "cell_type": "code",
   "execution_count": 6,
   "id": "6906ff06",
   "metadata": {},
   "outputs": [
    {
     "name": "stdout",
     "output_type": "stream",
     "text": [
      "📅 2024-01 Max Sharpe 月收益：1.9125%\n",
      "📅 2024-02 Max Sharpe 月收益：4.7046%\n",
      "📅 2024-03 Max Sharpe 月收益：1.2596%\n",
      "📅 2024-04 Max Sharpe 月收益：-4.1104%\n",
      "📅 2024-05 Max Sharpe 月收益：4.9560%\n",
      "📅 2024-06 Max Sharpe 月收益：2.9027%\n",
      "📅 2024-07 Max Sharpe 月收益：0.6880%\n",
      "📅 2024-08 Max Sharpe 月收益：2.2207%\n",
      "📅 2024-09 Max Sharpe 月收益：1.8203%\n",
      "📅 2024-10 Max Sharpe 月收益：-1.7132%\n",
      "📅 2024-11 Max Sharpe 月收益：3.5834%\n",
      "📅 2024-12 Max Sharpe 月收益：-2.0796%\n"
     ]
    }
   ],
   "source": [
    "results = []\n",
    "\n",
    "for i in range(12):\n",
    "    infer_start = start_date + relativedelta(months=i)\n",
    "    infer_end = (infer_start + relativedelta(months=1)) - pd.Timedelta(days=1)\n",
    "    train_start = infer_start - relativedelta(years=1)\n",
    "    train_end = infer_start - pd.Timedelta(days=1)\n",
    "\n",
    "    try:\n",
    "        # 1. 获取训练区间的算术收益率\n",
    "        train_data = return_df.loc[train_start:train_end, tickers]\n",
    "        train_return = np.expm1(train_data)\n",
    "        daily_mu = train_return.mean()\n",
    "        daily_cov = train_return.cov()\n",
    "\n",
    "        # 2. 年化收益与协方差\n",
    "        mu_annual = daily_mu * 252\n",
    "        cov_annual = daily_cov * 252\n",
    "\n",
    "        # 3. 求最大夏普比组合\n",
    "        weights = max_sharpe_portfolio(mu_annual.values, cov_annual.values)\n",
    "\n",
    "        # 4. 用该组合评估当前月收益\n",
    "        test_return = np.expm1(return_df.loc[infer_start:infer_end, tickers].values)\n",
    "        daily_return = test_return @ weights\n",
    "        monthly_return = np.prod(1 + daily_return) - 1\n",
    "\n",
    "    except Exception as e:\n",
    "        print(f\"⚠️ {infer_start.strftime('%Y-%m')} 出错：{e}\")\n",
    "        monthly_return = np.nan\n",
    "        weights = [np.nan] * len(tickers)\n",
    "\n",
    "    print(f\"📅 {infer_start.strftime('%Y-%m')} Max Sharpe 月收益：{monthly_return:.4%}\")\n",
    "    results.append((infer_start.strftime('%Y-%m'), monthly_return))\n",
    "\n",
    "df_maxsharpe = pd.DataFrame(results, columns=[\"Month\", \"MonthlyReturn\"])\n",
    "df_maxsharpe[\"CumulativeReturn\"] = (1 + df_maxsharpe[\"MonthlyReturn\"]).cumprod() - 1\n",
    "df_maxsharpe.to_csv(\"result/8_ticker_1ytrain1yinfer/MaxSharpe.csv\", index=False)\n"
   ]
  }
 ],
 "metadata": {
  "kernelspec": {
   "display_name": "DLinear",
   "language": "python",
   "name": "python3"
  },
  "language_info": {
   "codemirror_mode": {
    "name": "ipython",
    "version": 3
   },
   "file_extension": ".py",
   "mimetype": "text/x-python",
   "name": "python",
   "nbconvert_exporter": "python",
   "pygments_lexer": "ipython3",
   "version": "3.9.18"
  }
 },
 "nbformat": 4,
 "nbformat_minor": 5
}
