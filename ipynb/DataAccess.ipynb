{
 "cells": [
  {
   "cell_type": "markdown",
   "id": "8573ed72",
   "metadata": {},
   "source": [
    "# 加载模块"
   ]
  },
  {
   "cell_type": "code",
   "execution_count": 1,
   "id": "31063238",
   "metadata": {},
   "outputs": [],
   "source": [
    "import os\n",
    "os.chdir(\"..\")\n",
    "import pandas as pd \n",
    "import numpy as np\n",
    "import yfinance as yf\n",
    "from tqdm import tqdm\n",
    "from models.PortfolioModel import PortfolioModel\n",
    "from DataPipeline.DataBuilder import build_dataset\n",
    "import pandas_market_calendars as mcal"
   ]
  },
  {
   "cell_type": "markdown",
   "id": "267af23f",
   "metadata": {},
   "source": [
    "# 准备 tickers 和 原始数据 RawData"
   ]
  },
  {
   "cell_type": "code",
   "execution_count": 17,
   "id": "5eaebf76",
   "metadata": {},
   "outputs": [],
   "source": [
    "symbols = pd.read_csv('data/RawData/misc/test_tickers_Name.csv')\n",
    "symbols = symbols['Ticker'].to_list() # 读取 Tickers\n",
    "tickers = yf.Tickers(\" \".join(symbols)) # 转换成 yfinance 专属类"
   ]
  },
  {
   "cell_type": "code",
   "execution_count": 18,
   "id": "0c1bb742",
   "metadata": {},
   "outputs": [],
   "source": [
    "# 从 yfinance 中下载 tickers 数据\n",
    "for symbol in symbols:\n",
    "    stock = tickers.tickers[symbol]\n",
    "    stock_data = stock.history(start=\"2023-01-01\", end=\"2025-01-01\")\n",
    "    stock_data.to_csv(f\"data/RawData/{symbol}.csv\")"
   ]
  },
  {
   "cell_type": "markdown",
   "id": "619d90bb",
   "metadata": {},
   "source": [
    "# 特征工程"
   ]
  },
  {
   "cell_type": "markdown",
   "id": "e07febe6",
   "metadata": {},
   "source": [
    "## 用于计算生成特征的函数"
   ]
  },
  {
   "cell_type": "code",
   "execution_count": 19,
   "id": "16938f42",
   "metadata": {},
   "outputs": [],
   "source": [
    "def add_rsi(df, column='Close', window=14):\n",
    "    \"\"\"计算 RSI(相对强弱指标)，衡量超买超卖\"\"\"\n",
    "    delta = df[column].diff()  # 价格变动\n",
    "    gain = delta.clip(lower=0)  # 上涨部分\n",
    "    loss = -delta.clip(upper=0)  # 下跌部分（取正）\n",
    "\n",
    "    avg_gain = gain.rolling(window=window).mean()  # 平均涨幅\n",
    "    avg_loss = loss.rolling(window=window).mean()  # 平均跌幅\n",
    "\n",
    "    rs = avg_gain / avg_loss  # 相对强度\n",
    "    df[f'RSI_{window}'] = 100 - (100 / (1 + rs))  # RSI计算公式\n",
    "    return df\n",
    "\n",
    "def add_macd_diff(df, column='Close', fast=12, slow=26, signal=9):\n",
    "    \"\"\"计算 MACD 差值(DIF - DEA)，衡量趋势动量变化\"\"\"\n",
    "    ema_fast = df[column].ewm(span=fast, adjust=False).mean()  # 快速EMA\n",
    "    ema_slow = df[column].ewm(span=slow, adjust=False).mean()  # 慢速EMA\n",
    "    dif = ema_fast - ema_slow  # DIF线\n",
    "    dea = dif.ewm(span=signal, adjust=False).mean()  # DEA线（DIF的均线）\n",
    "    df['MACD_diff'] = dif - dea  # MACD差值（柱状图）\n",
    "    return df\n",
    "\n",
    "def add_bollinger_width(df, column='Close', window=20, num_std=2):\n",
    "    \"\"\"计算布林带宽度（上轨 - 下轨），衡量波动性\"\"\"\n",
    "    ma = df[column].rolling(window=window).mean()  # 中轨（均线）\n",
    "    std = df[column].rolling(window=window).std()  # 标准差\n",
    "    upper = ma + num_std * std  # 上轨\n",
    "    lower = ma - num_std * std  # 下轨\n",
    "    df['bollinger_width'] = upper - lower  # 布林带宽度\n",
    "    return df\n",
    "\n",
    "def add_volume_bias(df, column='Volume', window=10):\n",
    "    \"\"\"计算成交量乖离率，衡量成交量相对均值的偏离\"\"\"\n",
    "    volume_sma = df[column].rolling(window=window).mean()  # 成交量均线\n",
    "    df['volume_bias'] = (df[column] - volume_sma) / volume_sma  # 偏离程度\n",
    "    return df"
   ]
  },
  {
   "cell_type": "markdown",
   "id": "7ec957bf",
   "metadata": {},
   "source": [
    "## 特征生成"
   ]
  },
  {
   "cell_type": "code",
   "execution_count": 20,
   "id": "f5a341da",
   "metadata": {},
   "outputs": [],
   "source": [
    "# 特征工程\n",
    "for symbol in symbols:\n",
    "    Ticker_Rawdata = pd.read_csv(f'data/RawData/{symbol}.csv')  # 读取原始数据\n",
    "    Ticker_Rawdata['log_return'] = np.log(Ticker_Rawdata['Close'] / Ticker_Rawdata['Close'].shift(1))  # 计算对数收益率 ln(Pt/Pt-1)\n",
    "    Ticker_Rawdata['SMA_10'] = Ticker_Rawdata['Close'].rolling(window=10).mean()  # 计算10日简单移动平均\n",
    "    Ticker_Rawdata['price_bias'] = (Ticker_Rawdata['Close'] - Ticker_Rawdata['SMA_10']) / Ticker_Rawdata['SMA_10']  # 计算价格乖离率（当前价格相对SMA_10的偏离）\n",
    "    Ticker_Rawdata = add_rsi(Ticker_Rawdata)  # 添加RSI_14，衡量超买超卖\n",
    "    Ticker_Rawdata = add_macd_diff(Ticker_Rawdata)  # 添加MACD差值（趋势动量指标）\n",
    "    Ticker_Rawdata = add_bollinger_width(Ticker_Rawdata)  # 添加布林带宽度，衡量价格波动性\n",
    "    Ticker_Rawdata = add_volume_bias(Ticker_Rawdata)  # 添加成交量乖离率，衡量成交量与均值的偏离\n",
    "    Ticker_Rawdata.bfill(inplace=True)  # 用最近的非空值填充NaN\n",
    "\n",
    "    Ticker_Rawdata['Date'] = pd.to_datetime(Ticker_Rawdata['Date'], utc=True).dt.tz_convert(None) # 时区修正\n",
    "\n",
    "\n",
    "    Ticker_Rawdata.drop(columns=['Open', 'High', 'Low', 'Volume', 'Dividends', 'Stock Splits', 'Capital Gains'], inplace=True, errors='ignore')  # errors='ignore' 可防止列不存在时报错\n",
    "    Ticker_Rawdata.to_csv(f'data/FeatureData/{symbol}.csv')"
   ]
  },
  {
   "cell_type": "markdown",
   "id": "7bcfeaf9",
   "metadata": {},
   "source": [
    "# 交易日日期生成"
   ]
  },
  {
   "cell_type": "code",
   "execution_count": null,
   "id": "f6298d7b",
   "metadata": {},
   "outputs": [],
   "source": [
    "# 获取 NYSE 交易日历（适用于大部分 iShares ETF）\n",
    "nyse = mcal.get_calendar('NYSE')\n",
    "\n",
    "# 设置你要的时间范围\n",
    "schedule = nyse.schedule(start_date='2023-01-01', end_date='2025-01-31')\n",
    "\n",
    "# 生成交易日列表\n",
    "dates = mcal.date_range(schedule, frequency='1D')\n",
    "# 保存为 CSV 方便以后使用\n",
    "dates = dates.date\n",
    "dates_df = pd.DataFrame({'Date': dates})\n",
    "dates_df.to_csv('data/TradingDay_info.csv', index=False)"
   ]
  }
 ],
 "metadata": {
  "kernelspec": {
   "display_name": "DLinear",
   "language": "python",
   "name": "python3"
  },
  "language_info": {
   "codemirror_mode": {
    "name": "ipython",
    "version": 3
   },
   "file_extension": ".py",
   "mimetype": "text/x-python",
   "name": "python",
   "nbconvert_exporter": "python",
   "pygments_lexer": "ipython3",
   "version": "3.9.18"
  }
 },
 "nbformat": 4,
 "nbformat_minor": 5
}
