{
 "cells": [
  {
   "cell_type": "code",
   "execution_count": 5,
   "id": "1f007634",
   "metadata": {},
   "outputs": [],
   "source": [
    "from models.LinearInferencer import LinearPredictorTorch\n",
    "import numpy as np\n",
    "import pandas as pd\n",
    "import torch\n",
    "pd.options.display.float_format = '{:.6f}'.format\n",
    "np.set_printoptions(precision=6, suppress=True)"
   ]
  },
  {
   "cell_type": "code",
   "execution_count": 2,
   "id": "a35639fd",
   "metadata": {},
   "outputs": [],
   "source": [
    "tickers = [\"EEM\",\"EFA\",\"JPXN\",\"SPY\",\"XLK\",'VTI','AGG','DBC']"
   ]
  }
 ],
 "metadata": {
  "kernelspec": {
   "display_name": "DLinear",
   "language": "python",
   "name": "python3"
  },
  "language_info": {
   "codemirror_mode": {
    "name": "ipython",
    "version": 3
   },
   "file_extension": ".py",
   "mimetype": "text/x-python",
   "name": "python",
   "nbconvert_exporter": "python",
   "pygments_lexer": "ipython3",
   "version": "3.9.18"
  }
 },
 "nbformat": 4,
 "nbformat_minor": 5
}
