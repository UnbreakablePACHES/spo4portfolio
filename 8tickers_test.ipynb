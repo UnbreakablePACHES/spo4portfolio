{
 "cells": [
  {
   "cell_type": "code",
   "execution_count": 16,
   "id": "1f007634",
   "metadata": {},
   "outputs": [
    {
     "data": {
      "text/plain": [
       "<torch._C.Generator at 0x1e6ad6fb630>"
      ]
     },
     "execution_count": 16,
     "metadata": {},
     "output_type": "execute_result"
    }
   ],
   "source": [
    "import pandas as pd\n",
    "import numpy as np\n",
    "import torch\n",
    "import random\n",
    "from pyepo.func.surrogate import SPOPlus\n",
    "from pyepo.model.grb.grbmodel import optGrbModel\n",
    "pd.options.display.float_format = '{:.6f}'.format\n",
    "np.set_printoptions(precision=6, suppress=True)\n",
    "\n",
    "tickers = [\"EEM\",\"EFA\",\"JPXN\",\"SPY\",\"XLK\",'VTI','AGG','DBC']\n",
    "\n",
    "seed = 42\n",
    "\n",
    "# 设置 Python 内建随机模块\n",
    "random.seed(seed)\n",
    "\n",
    "# 设置 NumPy 随机种子\n",
    "np.random.seed(seed)\n",
    "\n",
    "# 设置 PyTorch 的随机种子\n",
    "torch.manual_seed(seed)"
   ]
  },
  {
   "cell_type": "markdown",
   "id": "5f2f8f28",
   "metadata": {},
   "source": [
    "# Train"
   ]
  },
  {
   "cell_type": "code",
   "execution_count": null,
   "id": "295cc524",
   "metadata": {},
   "outputs": [
    {
     "ename": "TypeError",
     "evalue": "Can't instantiate abstract class PortfolioModel with abstract method _getModel",
     "output_type": "error",
     "traceback": [
      "\u001b[1;31m---------------------------------------------------------------------------\u001b[0m",
      "\u001b[1;31mTypeError\u001b[0m                                 Traceback (most recent call last)",
      "Cell \u001b[1;32mIn[14], line 3\u001b[0m\n\u001b[0;32m      1\u001b[0m \u001b[38;5;28;01mfrom\u001b[39;00m \u001b[38;5;21;01mmodels\u001b[39;00m\u001b[38;5;21;01m.\u001b[39;00m\u001b[38;5;21;01mPortfolioModel\u001b[39;00m \u001b[38;5;28;01mimport\u001b[39;00m PortfolioModel\n\u001b[1;32m----> 3\u001b[0m optmodel \u001b[38;5;241m=\u001b[39m \u001b[43mPortfolioModel\u001b[49m\u001b[43m(\u001b[49m\u001b[43mn_assets\u001b[49m\u001b[38;5;241;43m=\u001b[39;49m\u001b[38;5;241;43m5\u001b[39;49m\u001b[43m,\u001b[49m\u001b[43m \u001b[49m\u001b[43mbudget\u001b[49m\u001b[38;5;241;43m=\u001b[39;49m\u001b[38;5;241;43m1.0\u001b[39;49m\u001b[43m)\u001b[49m\n",
      "\u001b[1;31mTypeError\u001b[0m: Can't instantiate abstract class PortfolioModel with abstract method _getModel"
     ]
    }
   ],
   "source": [
    "from models.PortfolioModel import PortfolioModel\n",
    "importlib.reload(models.PortfolioModel)\n",
    "optmodel = PortfolioModel(n_assets=5, budget=1.0)"
   ]
  },
  {
   "cell_type": "code",
   "execution_count": 15,
   "id": "e5010645",
   "metadata": {},
   "outputs": [
    {
     "name": "stdout",
     "output_type": "stream",
     "text": [
      "Collecting git+https://github.com/khalil-research/pyepo.git\n",
      "  Cloning https://github.com/khalil-research/pyepo.git to c:\\users\\123\\appdata\\local\\temp\\pip-req-build-vaisfgrb\n",
      "  Resolved https://github.com/khalil-research/pyepo.git to commit 9bb4805117430e64bbf845b790fa1fcf98a9121f\n",
      "Note: you may need to restart the kernel to use updated packages.\n"
     ]
    },
    {
     "name": "stderr",
     "output_type": "stream",
     "text": [
      "  Running command git clone --filter=blob:none --quiet https://github.com/khalil-research/pyepo.git 'C:\\Users\\123\\AppData\\Local\\Temp\\pip-req-build-vaisfgrb'\n",
      "ERROR: git+https://github.com/khalil-research/pyepo.git does not appear to be a Python project: neither 'setup.py' nor 'pyproject.toml' found.\n"
     ]
    }
   ],
   "source": [
    "%pip install --upgrade git+https://github.com/khalil-research/pyepo.git"
   ]
  }
 ],
 "metadata": {
  "kernelspec": {
   "display_name": "DLinear",
   "language": "python",
   "name": "python3"
  },
  "language_info": {
   "codemirror_mode": {
    "name": "ipython",
    "version": 3
   },
   "file_extension": ".py",
   "mimetype": "text/x-python",
   "name": "python",
   "nbconvert_exporter": "python",
   "pygments_lexer": "ipython3",
   "version": "3.9.18"
  }
 },
 "nbformat": 4,
 "nbformat_minor": 5
}
