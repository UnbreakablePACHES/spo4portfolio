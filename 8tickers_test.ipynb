{
 "cells": [
  {
   "cell_type": "code",
   "execution_count": null,
   "id": "1f007634",
   "metadata": {},
   "outputs": [
    {
     "data": {
      "text/plain": [
       "<torch._C.Generator at 0x1d57baa8f10>"
      ]
     },
     "execution_count": 1,
     "metadata": {},
     "output_type": "execute_result"
    }
   ],
   "source": [
    "import pandas as pd\n",
    "import numpy as np\n",
    "import torch\n",
    "import random\n",
    "\n",
    "from models.PortfolioModel import PortfolioModel # 定义投资组合优化模型\n",
    "from DataPipeline.Dataloader import Dataloader # 将数据读取为tensor\n",
    "\n",
    "from pyepo.func.surrogate import SPOPlus\n",
    "from pyepo.model.grb.grbmodel import optGrbModel\n",
    "pd.options.display.float_format = '{:.6f}'.format\n",
    "np.set_printoptions(precision=6, suppress=True)\n",
    "\n",
    "tickers = [\"EEM\",\"EFA\",\"JPXN\",\"SPY\",\"XLK\",'VTI','AGG','DBC']\n",
    "\n",
    "seed = 123\n",
    "\n",
    "# 设置 Python 内建随机模块\n",
    "random.seed(seed)\n",
    "\n",
    "# 设置 NumPy 随机种子\n",
    "np.random.seed(seed)\n",
    "\n",
    "# 设置 PyTorch 的随机种子\n",
    "torch.manual_seed(seed)"
   ]
  },
  {
   "cell_type": "markdown",
   "id": "5f2f8f28",
   "metadata": {},
   "source": [
    "# Train"
   ]
  }
 ],
 "metadata": {
  "kernelspec": {
   "display_name": "DLinear",
   "language": "python",
   "name": "python3"
  },
  "language_info": {
   "codemirror_mode": {
    "name": "ipython",
    "version": 3
   },
   "file_extension": ".py",
   "mimetype": "text/x-python",
   "name": "python",
   "nbconvert_exporter": "python",
   "pygments_lexer": "ipython3",
   "version": "3.9.18"
  }
 },
 "nbformat": 4,
 "nbformat_minor": 5
}
