{
 "cells": [
  {
   "cell_type": "markdown",
   "id": "c2bf71c9",
   "metadata": {},
   "source": [
    "# Experimental setup"
   ]
  },
  {
   "cell_type": "code",
   "execution_count": 1,
   "id": "1f007634",
   "metadata": {},
   "outputs": [
    {
     "data": {
      "text/plain": [
       "<torch._C.Generator at 0x1bb18d7ed50>"
      ]
     },
     "execution_count": 1,
     "metadata": {},
     "output_type": "execute_result"
    }
   ],
   "source": [
    "import pandas as pd\n",
    "import numpy as np\n",
    "import torch\n",
    "import random\n",
    "\n",
    "from models.LinearInferencer import LinearPredictorTorch\n",
    "from models.PortfolioModel import PortfolioModel # 定义投资组合优化模型\n",
    "from DataPipeline.Dataloader import Dataloader # 将数据读取为tensor\n",
    "from torch.utils.data import DataLoader\n",
    "from DataPipeline.DataBuilder import build_dataset\n",
    "\n",
    "from pyepo.func.surrogate import SPOPlus\n",
    "\n",
    "pd.options.display.float_format = '{:.6f}'.format\n",
    "np.set_printoptions(precision=6, suppress=True)\n",
    "\n",
    "tickers = [\"EEM\",\"EFA\",\"JPXN\",\"SPY\",\"XLK\",'VTI','AGG','DBC']\n",
    "\n",
    "seed = 123\n",
    "\n",
    "# 设置 Python 内建随机模块\n",
    "random.seed(seed)\n",
    "\n",
    "# 设置 NumPy 随机种子\n",
    "np.random.seed(seed)\n",
    "\n",
    "# 设置 PyTorch 的随机种子\n",
    "torch.manual_seed(seed)"
   ]
  },
  {
   "cell_type": "markdown",
   "id": "5f2f8f28",
   "metadata": {},
   "source": [
    "# Train"
   ]
  },
  {
   "cell_type": "code",
   "execution_count": 119,
   "id": "71193a08",
   "metadata": {},
   "outputs": [],
   "source": [
    "features_df, labels_df = build_dataset(tickers) # 读取输入特征和输出特征\n",
    "num_assets = len(tickers) # 维度=tickers数组长度\n",
    "dataset = Dataloader(features_df, labels_df, num_assets=num_assets) # 构建 PyTorch Dataset"
   ]
  },
  {
   "cell_type": "code",
   "execution_count": 120,
   "id": "318fb5c9",
   "metadata": {},
   "outputs": [
    {
     "name": "stdout",
     "output_type": "stream",
     "text": [
      "torch.Size([32, 8, 7]) torch.Size([32, 8])\n"
     ]
    }
   ],
   "source": [
    "batch_size = 32\n",
    "train_loader = DataLoader(dataset, batch_size=batch_size, shuffle=True)\n",
    "for x_batch, y_batch in train_loader:\n",
    "    print(x_batch.shape, y_batch.shape)\n",
    "    break\n"
   ]
  },
  {
   "cell_type": "code",
   "execution_count": 121,
   "id": "9c676339",
   "metadata": {},
   "outputs": [
    {
     "data": {
      "text/plain": [
       "torch.Size([32, 8])"
      ]
     },
     "execution_count": 121,
     "metadata": {},
     "output_type": "execute_result"
    }
   ],
   "source": [
    "predictor = LinearPredictorTorch(input_dim=7 * 8, num_assets=8)\n",
    "x_batch, _ = next(iter(train_loader))\n",
    "c_hat = predictor(x_batch)  # 输出 shape: [batch_size, 8]\n",
    "c_hat.shape"
   ]
  },
  {
   "cell_type": "code",
   "execution_count": 122,
   "id": "42590686",
   "metadata": {},
   "outputs": [],
   "source": [
    "predictor.train()\n",
    "total_loss = 0.0\n",
    "device = torch.device(\"cuda\" if torch.cuda.is_available() else \"cpu\")\n",
    "for x_batch, c_true_batch in train_loader:\n",
    "    x_batch = x_batch.to(device)         # [batch_size, 8, 7]\n",
    "    c_true_batch = c_true_batch.to(device)  # [batch_size, 8]"
   ]
  },
  {
   "cell_type": "code",
   "execution_count": 123,
   "id": "c051bebf",
   "metadata": {},
   "outputs": [],
   "source": [
    "x_batch, c_true_batch = next(iter(train_loader))\n",
    "x_batch = x_batch.to(device)         # shape: [batch_size, 8, 7]\n",
    "c_true_batch = c_true_batch.to(device)  # shape: [batch_size, 8]"
   ]
  },
  {
   "cell_type": "code",
   "execution_count": 124,
   "id": "820eece4",
   "metadata": {},
   "outputs": [
    {
     "name": "stdout",
     "output_type": "stream",
     "text": [
      "Num of cores: 1\n"
     ]
    }
   ],
   "source": [
    "optmodel = PortfolioModel(n_assets=8, budget=1.0) # 实例化优化模型\n",
    "optimizer = torch.optim.Adam(predictor.parameters(), lr=0.001) # 实例化优化器\n",
    "spo_loss_fn = SPOPlus(optmodel, processes=1, solve_ratio=1.0, reduction=\"mean\") # 实例化spoloss"
   ]
  },
  {
   "cell_type": "code",
   "execution_count": 125,
   "id": "59ca277c",
   "metadata": {},
   "outputs": [
    {
     "name": "stdout",
     "output_type": "stream",
     "text": [
      "<class 'pyepo.func.surrogate.SPOPlus'>\n",
      "d:\\Anaconda3\\envs\\DLinear\\lib\\site-packages\\pyepo\\func\\surrogate.py\n"
     ]
    }
   ],
   "source": [
    "print(type(spo_loss_fn))\n",
    "import inspect\n",
    "print(inspect.getfile(spo_loss_fn.__class__))\n",
    "\n",
    "total_loss = 0.0  # 初始化累计损失"
   ]
  },
  {
   "cell_type": "markdown",
   "id": "0a8f5373",
   "metadata": {},
   "source": [
    "## Train main script"
   ]
  },
  {
   "cell_type": "code",
   "execution_count": 147,
   "id": "403d0bbe",
   "metadata": {},
   "outputs": [
    {
     "name": "stdout",
     "output_type": "stream",
     "text": [
      "z_star: tensor([[1., 0., 0., 0., 0., 0., 0., 0.]])\n",
      "true_obj: 0.0127\n",
      "loss: 9.7792\n"
     ]
    }
   ],
   "source": [
    "for i in range(x_batch.size(0)):  # 遍历这个 batch 中的每个样本\n",
    "    x_sample = x_batch[i].unsqueeze(0).to(device)   # [1, 8, 7]\n",
    "    c_true = c_true_batch[i].to(device)             # [8]\n",
    "\n",
    "    optimizer.zero_grad()\n",
    "\n",
    "    # 前向传播：预测 \\hat{c}\n",
    "    c_hat = predictor(x_sample).squeeze(0)          # [8]\n",
    "\n",
    "    # 设置目标向量并求解 z*(c_true)\n",
    "    optmodel.setObj(c_true.detach().cpu().numpy())  # ✅ 设置目标函数\n",
    "    z_star_np, obj_val = optmodel.solve()           # ✅ 无参数调用\n",
    "\n",
    "    # 转为 PyTorch Tensor\n",
    "    z_star = torch.tensor(z_star_np, dtype=torch.float32, device=device)  # [8]\n",
    "    true_obj = torch.tensor(obj_val, dtype=torch.float32, device=device)  # []\n",
    "\n",
    "    # 添加 batch 维度，确保 shape = [1, 8] / [1]\n",
    "    c_hat = c_hat.unsqueeze(0)\n",
    "    c_true = c_true.unsqueeze(0)\n",
    "    z_star = z_star.unsqueeze(0)\n",
    "    true_obj = true_obj.unsqueeze(0)\n",
    "\n",
    "    # 计算 SPO+ loss\n",
    "    loss = spo_loss_fn(c_hat, c_true, z_star, true_obj)\n",
    "\n",
    "    # 反向传播 + 参数更新\n",
    "    loss.backward()\n",
    "    optimizer.step()\n",
    "\n",
    "    total_loss += loss.item()  # 先验证一个样本是否成功\n",
    "print(f\"z_star: {z_star}\")\n",
    "print(f\"true_obj: {true_obj.item():.4f}\")\n",
    "print(f\"loss: {loss.item():.4f}\")\n"
   ]
  }
 ],
 "metadata": {
  "kernelspec": {
   "display_name": "DLinear",
   "language": "python",
   "name": "python3"
  },
  "language_info": {
   "codemirror_mode": {
    "name": "ipython",
    "version": 3
   },
   "file_extension": ".py",
   "mimetype": "text/x-python",
   "name": "python",
   "nbconvert_exporter": "python",
   "pygments_lexer": "ipython3",
   "version": "3.9.18"
  }
 },
 "nbformat": 4,
 "nbformat_minor": 5
}
